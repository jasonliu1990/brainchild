{
  "cells": [
    {
      "cell_type": "code",
      "execution_count": 1,
      "metadata": {
        "colab": {
          "base_uri": "https://localhost:8080/"
        },
        "id": "5q8pzxIyC2B0",
        "outputId": "c4402771-85ee-45fd-9753-0dd19bff392d"
      },
      "outputs": [
        {
          "name": "stdout",
          "output_type": "stream",
          "text": [
            "Drive already mounted at /content/drive; to attempt to forcibly remount, call drive.mount(\"/content/drive\", force_remount=True).\n"
          ]
        }
      ],
      "source": [
        "from google.colab import drive\n",
        "drive.mount('/content/drive')"
      ]
    },
    {
      "cell_type": "code",
      "execution_count": 2,
      "metadata": {
        "id": "wiitVNiRBIBf"
      },
      "outputs": [],
      "source": [
        "import pandas as pd \n",
        "import numpy as np\n",
        "from xgboost import XGBClassifier\n",
        "from sklearn.model_selection import train_test_split\n",
        "from sklearn.metrics import accuracy_score, f1_score, precision_score, recall_score\n",
        "\n",
        "from matplotlib import pyplot as plt"
      ]
    },
    {
      "cell_type": "code",
      "execution_count": 3,
      "metadata": {
        "id": "Cpoz_qKyCBwX"
      },
      "outputs": [],
      "source": [
        "path = './drive/MyDrive/T-brain/2022'\n",
        "\n",
        "# 信用卡交易\n",
        "ccba = pd.read_csv(f'{path}/public_train_x_ccba_full_hashed.csv')\n",
        "\n",
        "# 顧客消費資訊(日期、消費地國別、消費地幣別、金額)\n",
        "cdtx = pd.read_csv(f'{path}/public_train_x_cdtx0001_full_hashed.csv')\n",
        "\n",
        "# 顧客資訊\n",
        "custinfo = pd.read_csv(f'{path}/public_train_x_custinfo_full_hashed.csv')\n",
        "\n",
        "# 顧客交易資訊(交易日期、金額、匯率、交易代碼、分行代碼)\n",
        "dp = pd.read_csv(f'{path}/public_train_x_dp_full_hashed.csv')\n",
        "\n",
        "# 外匯交易\n",
        "remit = pd.read_csv(f'{path}/public_train_x_remit1_full_hashed.csv')\n",
        "\n",
        "# 警告資訊\n",
        "alert_time = pd.read_csv(f'{path}/public_x_alert_date.csv')\n",
        "#train_x_alert_date = pd.read_csv(f'{path}/train_x_alert_date.csv')\n",
        "\n",
        "# 警告資訊與報SAR關係\n",
        "y = pd.read_csv(f'{path}/train_y_answer.csv')\n",
        "\n",
        "# 提交範例\n",
        "doc = pd.read_csv(f'{path}/submit_sample.csv')"
      ]
    },
    {
      "cell_type": "code",
      "execution_count": 4,
      "metadata": {
        "id": "kH5Ll1NcCkE6"
      },
      "outputs": [],
      "source": [
        "doc_merged = custinfo.merge(doc, on='alert_key', how='right').merge(alert_time, on='alert_key', how='left')\n",
        "doc_merged = doc_merged[~doc_merged['cust_id'].isnull()]\n",
        "max_doc = doc_merged.groupby('cust_id')['date'].max().reset_index()\n",
        "max_doc.rename(columns={'date':'max_date'},inplace=True)\n",
        "doc_merged = doc_merged.merge(max_doc, on='cust_id', how='left')\n",
        "prev_list = doc_merged[doc_merged['max_date']>doc_merged['date']]['alert_key'].tolist()"
      ]
    },
    {
      "cell_type": "code",
      "execution_count": 5,
      "metadata": {
        "colab": {
          "base_uri": "https://localhost:8080/"
        },
        "id": "DF3ybOWzCkcv",
        "outputId": "39dfa5e1-a1c5-422b-e613-6fef76c27f02"
      },
      "outputs": [
        {
          "name": "stderr",
          "output_type": "stream",
          "text": [
            "/usr/local/lib/python3.7/dist-packages/ipykernel_launcher.py:3: SettingWithCopyWarning: \n",
            "A value is trying to be set on a copy of a slice from a DataFrame.\n",
            "Try using .loc[row_indexer,col_indexer] = value instead\n",
            "\n",
            "See the caveats in the documentation: https://pandas.pydata.org/pandas-docs/stable/user_guide/indexing.html#returning-a-view-versus-a-copy\n",
            "  This is separate from the ipykernel package so we can avoid doing imports until\n"
          ]
        }
      ],
      "source": [
        "alert_dp = dp[dp['cust_id'].isin(custinfo[custinfo['alert_key'].isin(alert_time['alert_key'].tolist())]['cust_id'].tolist())]\n",
        "train_dp = dp[~dp['cust_id'].isin(custinfo[custinfo['alert_key'].isin(alert_time['alert_key'].tolist())]['cust_id'].tolist())]\n",
        "train_dp['y'] = 0"
      ]
    },
    {
      "cell_type": "code",
      "execution_count": 6,
      "metadata": {
        "colab": {
          "base_uri": "https://localhost:8080/"
        },
        "id": "YIsOhEubCkmx",
        "outputId": "3b06dda7-0a02-4515-e4e5-94b5ae55bb46"
      },
      "outputs": [
        {
          "name": "stderr",
          "output_type": "stream",
          "text": [
            "/usr/local/lib/python3.7/dist-packages/pandas/core/indexing.py:1817: SettingWithCopyWarning: \n",
            "A value is trying to be set on a copy of a slice from a DataFrame.\n",
            "Try using .loc[row_indexer,col_indexer] = value instead\n",
            "\n",
            "See the caveats in the documentation: https://pandas.pydata.org/pandas-docs/stable/user_guide/indexing.html#returning-a-view-versus-a-copy\n",
            "  self._setitem_single_column(loc, value, pi)\n"
          ]
        }
      ],
      "source": [
        "sar_idx = train_dp[train_dp['cust_id'].isin(custinfo[custinfo['alert_key'].isin(y[y['sar_flag']==1]['alert_key'].tolist())]['cust_id'].tolist())].index\n",
        "train_dp.loc[sar_idx, 'y'] = 1"
      ]
    },
    {
      "cell_type": "code",
      "execution_count": 7,
      "metadata": {
        "id": "2jrUTl8dCk6D"
      },
      "outputs": [],
      "source": [
        "#Data Cleansing\n",
        "#SAR戶僅留前X天\n",
        "def sar_pred_d(x, day):\n",
        "  prev_d = x.groupby('cust_id')['tx_date'].max() - day\n",
        "  prev_d = prev_d.reset_index()\n",
        "  prev_d.rename(columns={'tx_date':'prev_d'}, inplace=True)\n",
        "  x = x.merge(prev_d, on='cust_id', how='left')\n",
        "  x.drop(x[x['tx_date']<x['prev_d']].index,inplace=True)\n",
        "  x.pop('prev_d')\n",
        "  return x\n",
        "\n",
        "train_dp = sar_pred_d(train_dp, 30)\n",
        "alert_dp = sar_pred_d(alert_dp, 30)"
      ]
    },
    {
      "cell_type": "code",
      "execution_count": 8,
      "metadata": {
        "id": "A3B1yjGlClDj"
      },
      "outputs": [],
      "source": [
        "#特徵前處理\n",
        "def preprocess(data):\n",
        "  dict1 = {}\n",
        "  idx = 0\n",
        "  num = 0\n",
        "  for i in range(0,395,1):\n",
        "    dict1[i] = str(idx)\n",
        "    num += 1\n",
        "    if num == 7:\n",
        "      idx += 1\n",
        "      num = 0\n",
        "  data['tx_date_group'] = data.tx_date.map(lambda x: dict1[x])\n",
        "  data['session_cust_id'] = data.tx_date_group + data.cust_id\n",
        "  data['date_cust_id'] = data.tx_date.astype(str) + data.cust_id\n",
        "  data['date_time_cust_id'] = data.tx_date.astype(str) + data.tx_date.astype(str) + data.cust_id\n",
        "  return data\n",
        "\n",
        "train_dp = preprocess(train_dp)\n",
        "alert_dp = preprocess(alert_dp)"
      ]
    },
    {
      "cell_type": "code",
      "execution_count": 9,
      "metadata": {
        "id": "bGyQppHYDRNl"
      },
      "outputs": [],
      "source": [
        "#session 交易差額比率\n",
        "def amt_diff_func(data):\n",
        "  session_amt_diff = data.groupby(['session_cust_id','debit_credit'])['tx_amt'].sum().reset_index()\n",
        "  session_amt_diff = pd.pivot_table(session_amt_diff, index='session_cust_id', columns='debit_credit', values='tx_amt')\n",
        "  session_amt_diff.fillna(1, inplace=True)\n",
        "  session_amt_diff['session_amt_diff_ratio'] = \\\n",
        "    abs(session_amt_diff['CR'] - session_amt_diff['DB']) / abs(session_amt_diff['CR'] + session_amt_diff['DB'])\n",
        "  session_amt_diff = session_amt_diff.reset_index()[['session_cust_id','session_amt_diff_ratio']]\n",
        "  data = data.merge(session_amt_diff, on='session_cust_id', how='left')\n",
        "#當日 交易差額比率\n",
        "  date_amt_diff = data.groupby(['date_cust_id','debit_credit'])['tx_amt'].sum().reset_index()\n",
        "  date_amt_diff = pd.pivot_table(date_amt_diff, index='date_cust_id', columns='debit_credit', values='tx_amt')\n",
        "  date_amt_diff.fillna(1, inplace=True)\n",
        "  date_amt_diff['date_amt_diff_ratio'] = \\\n",
        "  abs(date_amt_diff['CR'] - date_amt_diff['DB']) / abs(date_amt_diff['CR'] + date_amt_diff['DB'])\n",
        "  date_amt_diff = date_amt_diff.reset_index()[['date_cust_id','date_amt_diff_ratio']]\n",
        "  data = data.merge(date_amt_diff, on=['date_cust_id'], how='left')\n",
        "#當時 交易差額比率\n",
        "  date_time_amt_diff = data.groupby(['date_time_cust_id','debit_credit'])['tx_amt'].sum().reset_index()\n",
        "  date_time_amt_diff = pd.pivot_table(date_time_amt_diff, index='date_time_cust_id', columns='debit_credit', values='tx_amt')\n",
        "  date_time_amt_diff.fillna(1, inplace=True)\n",
        "  date_time_amt_diff['date_time_amt_diff_ratio'] = \\\n",
        "  abs(date_time_amt_diff['CR'] - date_time_amt_diff['DB']) / abs(date_time_amt_diff['CR'] + date_time_amt_diff['DB'])\n",
        "  date_time_amt_diff = date_time_amt_diff.reset_index()[['date_time_cust_id','date_time_amt_diff_ratio']]\n",
        "  data = data.merge(date_time_amt_diff, on=['date_time_cust_id'], how='left')\n",
        "  return data\n",
        "\n",
        "train_dp = amt_diff_func(train_dp)\n",
        "alert_dp = amt_diff_func(alert_dp)"
      ]
    },
    {
      "cell_type": "code",
      "execution_count": 10,
      "metadata": {
        "id": "2S5nk-kBDToT"
      },
      "outputs": [],
      "source": [
        "def tx_cnt_branch_func(data):\n",
        "#當時交易筆數 tx_cnt_date_time\n",
        "  tx_cnt_date_time = data.groupby(['cust_id','tx_date','tx_time'])['debit_credit'].count().reset_index()\n",
        "  tx_cnt_date_time.rename(columns={'debit_credit':'tx_cnt_date_time'}, inplace=True)\n",
        "  data = data.merge(tx_cnt_date_time, on=['cust_id','tx_date','tx_time'], how='left')\n",
        "#當日交易筆數 tx_cnt_date\n",
        "  tx_cnt_date = data.groupby(['cust_id','tx_date'])['debit_credit'].count().reset_index()\n",
        "  tx_cnt_date.rename(columns={'debit_credit':'tx_cnt_date'}, inplace=True)\n",
        "  data = data.merge(tx_cnt_date, on=['cust_id','tx_date'], how='left')\n",
        "#當session交易筆數 tx_cnt_session\n",
        "  tx_cnt_session = data.groupby(['session_cust_id'])['debit_credit'].count().reset_index()\n",
        "  tx_cnt_session.rename(columns={'debit_credit':'tx_cnt_session'}, inplace=True)\n",
        "  data = data.merge(tx_cnt_session, on=['session_cust_id'], how='left')\n",
        "#當時總分行數 txbranch_day_cnt\n",
        "  txbranch_day_time_cnt = data.groupby(['cust_id','tx_date','tx_time'])['txbranch'].count().reset_index()\n",
        "  txbranch_day_time_cnt.rename(columns={'txbranch':'txbranch_day_time_cnt'}, inplace=True)\n",
        "  data = data.merge(txbranch_day_time_cnt, on=['cust_id','tx_date','tx_time'], how='left')\n",
        "#單日總分行數 txbranch_day_cnt\n",
        "  txbranch_day_cnt = data.groupby(['cust_id','tx_date'])['txbranch'].count().reset_index()\n",
        "  txbranch_day_cnt.rename(columns={'txbranch':'txbranch_day_cnt'}, inplace=True)\n",
        "  data = data.merge(txbranch_day_cnt, on=['cust_id','tx_date'], how='left')\n",
        "#當session總分行數 txbranch_session_cnt\n",
        "  txbranch_session_cnt = data.groupby(['session_cust_id'])['txbranch'].count().reset_index()\n",
        "  txbranch_session_cnt.rename(columns={'txbranch':'txbranch_session_cnt'}, inplace=True)\n",
        "  data = data.merge(txbranch_session_cnt, on=['session_cust_id'], how='left')\n",
        "  return data\n",
        "train_dp = tx_cnt_branch_func(train_dp)\n",
        "alert_dp = tx_cnt_branch_func(alert_dp)"
      ]
    },
    {
      "cell_type": "code",
      "execution_count": 11,
      "metadata": {
        "id": "aCXsG70DDWHq"
      },
      "outputs": [],
      "source": [
        "def atm_txn_func(data):\n",
        "#當sessionATM 佔交易數比例\n",
        "  session_atm_txn_ratio = data.groupby(['session_cust_id'])['ATM'].sum().reset_index()\n",
        "  session_atm_txn_ratio.rename(columns={'ATM':'session_atm_txn_ratio'}, inplace=True)\n",
        "  data = data.merge(session_atm_txn_ratio, on=['session_cust_id'], how='left')\n",
        "  data.session_atm_txn_ratio = data.session_atm_txn_ratio / data.tx_cnt_date\n",
        "#當日ATM 佔交易數比例\n",
        "  day_atm_txn_ratio = data.groupby(['cust_id','tx_date'])['ATM'].sum().reset_index()\n",
        "  day_atm_txn_ratio.rename(columns={'ATM':'day_atm_txn_ratio'}, inplace=True)\n",
        "  data = data.merge(day_atm_txn_ratio, on=['cust_id','tx_date'], how='left')\n",
        "  data.day_atm_txn_ratio = data.day_atm_txn_ratio / data.tx_cnt_date\n",
        "#當時ATM 佔交易數比例\n",
        "  day_time_atm_txn_ratio = data.groupby(['cust_id','tx_date','tx_time'])['ATM'].sum().reset_index()\n",
        "  day_time_atm_txn_ratio.rename(columns={'ATM':'day_time_atm_txn_ratio'}, inplace=True)\n",
        "  data = data.merge(day_time_atm_txn_ratio, on=['cust_id','tx_date','tx_time'], how='left')\n",
        "  data.day_time_atm_txn_ratio = data.day_time_atm_txn_ratio / data.tx_cnt_date_time\n",
        "  return data\n",
        "train_dp = atm_txn_func(train_dp)\n",
        "alert_dp = atm_txn_func(alert_dp)"
      ]
    },
    {
      "cell_type": "code",
      "execution_count": 12,
      "metadata": {
        "id": "_FAhmkEsDYUo"
      },
      "outputs": [],
      "source": [
        "def cross_bank_func(data):\n",
        "  #當session跨行 佔交易數比例\n",
        "  session_cross_bank_ratio = data.groupby(['session_cust_id'])['cross_bank'].sum().reset_index()\n",
        "  session_cross_bank_ratio.rename(columns={'cross_bank':'session_cross_bank_ratio'}, inplace=True)\n",
        "  data = data.merge(session_cross_bank_ratio, on=['session_cust_id'], how='left')\n",
        "  data.session_cross_bank_ratio = data.session_cross_bank_ratio / data.tx_cnt_date\n",
        "  #當日跨行 佔交易數比例\n",
        "  day_cross_bank_ratio = data.groupby(['cust_id','tx_date'])['cross_bank'].sum().reset_index()\n",
        "  day_cross_bank_ratio.rename(columns={'cross_bank':'day_cross_bank_ratio'}, inplace=True)\n",
        "  data = data.merge(day_cross_bank_ratio, on=['cust_id','tx_date'], how='left')\n",
        "  data.day_cross_bank_ratio = data.day_cross_bank_ratio / data.tx_cnt_date\n",
        "  #當時跨行 佔交易數比例\n",
        "  day_time_cross_bank_ratio = data.groupby(['cust_id','tx_date','tx_time'])['cross_bank'].sum().reset_index()\n",
        "  day_time_cross_bank_ratio.rename(columns={'cross_bank':'day_time_cross_bank_ratio'}, inplace=True)\n",
        "  data = data.merge(day_time_cross_bank_ratio, on=['cust_id','tx_date','tx_time'], how='left')\n",
        "  data.day_time_cross_bank_ratio = data.day_time_cross_bank_ratio / data.tx_cnt_date_time\n",
        "  return data\n",
        "train_dp = cross_bank_func(train_dp)\n",
        "alert_dp = cross_bank_func(alert_dp)"
      ]
    },
    {
      "cell_type": "code",
      "execution_count": 13,
      "metadata": {
        "colab": {
          "base_uri": "https://localhost:8080/"
        },
        "id": "FIK5ZzwAK5Wz",
        "outputId": "bed199e2-5cf0-4680-dc86-0da0a75e6185"
      },
      "outputs": [
        {
          "data": {
            "text/plain": [
              "Index(['cust_id', 'date', 'country', 'cur_type', 'amt'], dtype='object')"
            ]
          },
          "execution_count": 13,
          "metadata": {},
          "output_type": "execute_result"
        }
      ],
      "source": [
        "cdtx.columns"
      ]
    },
    {
      "cell_type": "code",
      "execution_count": 14,
      "metadata": {
        "id": "Ucs1H3miJp4G"
      },
      "outputs": [],
      "source": [
        "def trytry(data):\n",
        "  # \n",
        "  d = cdtx.groupby(['cust_id','date']).size().reset_index(name='cnt')\n",
        "  bins = [-np.inf, 50, 100, 150, 200, np.inf]\n",
        "  labels = [x for x in range(len(bins)-1)]\n",
        "  d['cust_id_date_cnt'] = pd.cut(d.cnt, bins=bins, labels=labels).astype('int')\n",
        "  d['rolling_sum_2'] = d.groupby(['cust_id'])['cnt'].rolling(2).sum().reset_index(level=0, drop=True)\n",
        "  d['rolling_sum_4'] = d.groupby(['cust_id'])['cnt'].rolling(4).sum().reset_index(level=0, drop=True)\n",
        "  d['rolling_sum_6'] = d.groupby(['cust_id'])['cnt'].rolling(6).sum().reset_index(level=0, drop=True)\n",
        "  d.rename(columns = {'date':'tx_date'}, inplace = True)\n",
        "  data = data.merge(d, on=['cust_id', 'tx_date'], how='left')\n",
        "\n",
        "  # country + cur_type\n",
        "  d = cdtx.copy()\n",
        "  d['mix_country_cur_type'] = d['country']*100 + d['cur_type']\n",
        "  d.rename(columns = {'date':'tx_date'}, inplace = True)\n",
        "  d = d[['cust_id','tx_date','mix_country_cur_type']]\n",
        "  data = data.merge(d, on=['cust_id', 'tx_date'], how='left')\n",
        "\n",
        "  # \n",
        "  d = cdtx.copy()\n",
        "  bins = [-np.inf, 100, 200, 300, 400, 500, 600, 700, 800, 900, 1000, 1500, 2000, 2500, 3000, 3500, 4000, 4500, 5000, 10000, np.inf]\n",
        "  labels = [x for x in range(len(bins)-1)]\n",
        "  d['amt_group'] = pd.cut(d.amt, bins=bins, labels=labels).astype('int')\n",
        "  d.rename(columns = {'date':'tx_date'}, inplace = True)\n",
        "  d = d[['cust_id','tx_date','amt_group']]\n",
        "  data = data.merge(d, on=['cust_id', 'tx_date'], how='left')\n",
        "\n",
        "  return data\n",
        "\n",
        "train_dp_ = trytry(train_dp)\n",
        "alert_dp_ = trytry(alert_dp)"
      ]
    },
    {
      "cell_type": "code",
      "execution_count": 15,
      "metadata": {
        "colab": {
          "base_uri": "https://localhost:8080/"
        },
        "id": "-zaJ3bRVR1Bg",
        "outputId": "26f02c1e-9682-42fc-e5c4-74c42caac02c"
      },
      "outputs": [
        {
          "data": {
            "text/plain": [
              "Index(['cust_id', 'debit_credit', 'tx_date', 'tx_time', 'tx_type', 'tx_amt',\n",
              "       'exchg_rate', 'info_asset_code', 'fiscTxId', 'txbranch', 'cross_bank',\n",
              "       'ATM', 'y', 'tx_date_group', 'session_cust_id', 'date_cust_id',\n",
              "       'date_time_cust_id', 'session_amt_diff_ratio', 'date_amt_diff_ratio',\n",
              "       'date_time_amt_diff_ratio', 'tx_cnt_date_time', 'tx_cnt_date',\n",
              "       'tx_cnt_session', 'txbranch_day_time_cnt', 'txbranch_day_cnt',\n",
              "       'txbranch_session_cnt', 'session_atm_txn_ratio', 'day_atm_txn_ratio',\n",
              "       'day_time_atm_txn_ratio', 'session_cross_bank_ratio',\n",
              "       'day_cross_bank_ratio', 'day_time_cross_bank_ratio', 'cnt',\n",
              "       'cust_id_date_cnt', 'rolling_sum_2', 'rolling_sum_4', 'rolling_sum_6',\n",
              "       'mix_country_cur_type', 'amt_group'],\n",
              "      dtype='object')"
            ]
          },
          "execution_count": 15,
          "metadata": {},
          "output_type": "execute_result"
        }
      ],
      "source": [
        "train_dp_.columns"
      ]
    },
    {
      "cell_type": "code",
      "execution_count": 16,
      "metadata": {
        "id": "CSdaIKokDaDa"
      },
      "outputs": [],
      "source": [
        "train_col = ['cust_id','tx_date','tx_time','session_amt_diff_ratio', 'date_amt_diff_ratio',\n",
        "       'date_time_amt_diff_ratio', 'tx_cnt_date_time', 'tx_cnt_date',\n",
        "       'txbranch_day_time_cnt', 'txbranch_day_cnt', 'day_atm_txn_ratio',\n",
        "       'day_time_atm_txn_ratio','day_cross_bank_ratio','day_time_cross_bank_ratio',\n",
        "       'cust_id_date_cnt','rolling_sum_4','rolling_sum_2','rolling_sum_6','mix_country_cur_type','amt_group',\n",
        "       #'tx_cnt_session','txbranch_session_cnt','session_atm_txn_ratio','session_cross_bank_ratio',\n",
        "       'y']\n",
        "x_col = train_col[3:-1]\n",
        "train_data = train_dp_[train_col]\n",
        "#train_data"
      ]
    },
    {
      "cell_type": "code",
      "execution_count": 17,
      "metadata": {
        "id": "wI3NHA-ZDb4Q"
      },
      "outputs": [],
      "source": [
        "Y = train_data['y']\n",
        "X = train_data[x_col]"
      ]
    },
    {
      "cell_type": "code",
      "execution_count": 18,
      "metadata": {
        "colab": {
          "base_uri": "https://localhost:8080/"
        },
        "id": "mqwk_SGZDnBh",
        "outputId": "8fb65429-5457-46ab-d289-b8303b906798"
      },
      "outputs": [
        {
          "name": "stdout",
          "output_type": "stream",
          "text": [
            "Accuracy: 99.45%\n",
            "0.9998000095380066\n",
            "0.9938965456069198\n"
          ]
        }
      ],
      "source": [
        "#model training 1\n",
        "#逐筆交易處理\n",
        "test_size = 0.2\n",
        "seed = 42\n",
        "X_train, X_test, y_train, y_test = train_test_split(X, Y, test_size=test_size, random_state=seed)\n",
        "model = XGBClassifier()\n",
        "model.fit(X_train, y_train)\n",
        "y_pred = model.predict(X_test)\n",
        "predictions = [round(value) for value in y_pred]\n",
        "#previous 30days label of 1\n",
        "# evaluate predictions\n",
        "accuracy = accuracy_score(y_test, predictions)\n",
        "print(\"Accuracy: %.2f%%\" % (accuracy * 100.0))\n",
        "print(precision_score(y_test, predictions))\n",
        "print(recall_score(y_test, predictions))\n",
        "\n",
        "# Accuracy: 92.17%\n",
        "# 0.9980544747081712\n",
        "# 0.5003657644476956"
      ]
    },
    {
      "cell_type": "code",
      "execution_count": 19,
      "metadata": {
        "colab": {
          "base_uri": "https://localhost:8080/",
          "height": 282
        },
        "id": "auxsvrVUHNz-",
        "outputId": "da3ca708-95e2-445b-c1c3-6ab7f1f4966b"
      },
      "outputs": [
        {
          "data": {
            "text/plain": [
              "<BarContainer object of 17 artists>"
            ]
          },
          "execution_count": 19,
          "metadata": {},
          "output_type": "execute_result"
        },
        {
          "data": {
            "image/png": "[encoded data removed]",
            "text/plain": [
              "<Figure size 432x288 with 1 Axes>"
            ]
          },
          "metadata": {
            "needs_background": "light"
          },
          "output_type": "display_data"
        }
      ],
      "source": [
        "# feature importance\n",
        "sorted_idx = model.feature_importances_.argsort()\n",
        "plt.barh(X.columns[sorted_idx], model.feature_importances_[sorted_idx])"
      ]
    }
  ],
  "metadata": {
    "colab": {
      "provenance": []
    },
    "kernelspec": {
      "display_name": "Python 3",
      "name": "python3"
    },
    "language_info": {
      "name": "python"
    }
  },
  "nbformat": 4,
  "nbformat_minor": 0
}
