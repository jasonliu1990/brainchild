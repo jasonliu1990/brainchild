{
 "cells": [
  {
   "cell_type": "code",
   "execution_count": null,
   "metadata": {},
   "outputs": [],
   "source": [
    "def flatten_list(_2d_list):\n",
    "    flat_list = []\n",
    "    # Iterate through the outer list\n",
    "    for element in _2d_list:\n",
    "        if type(element) is list:\n",
    "            # If the element is of type list, iterate through the sublist\n",
    "            for item in element:\n",
    "                flat_list.append(item)\n",
    "        else:\n",
    "            flat_list.append(element)\n",
    "    return flat_list"
   ]
  },
  {
   "cell_type": "code",
   "execution_count": null,
   "metadata": {},
   "outputs": [],
   "source": [
    "import pandas as pd"
   ]
  },
  {
   "cell_type": "code",
   "execution_count": null,
   "metadata": {},
   "outputs": [],
   "source": [
    "df = pd.read_csv(r'E:\\Desktop\\玉山\\訓練資料集_first\\public_train_x_ccba_full_hashed.csv')\n",
    "df"
   ]
  },
  {
   "cell_type": "markdown",
   "metadata": {},
   "source": [
    "### Distinct 全部帳號"
   ]
  },
  {
   "cell_type": "code",
   "execution_count": null,
   "metadata": {},
   "outputs": [],
   "source": [
    "#全部帳號\n",
    "acct_id = []\n",
    "acct_id = sorted(df['cust_id'].unique())\n",
    "print(acct_id)"
   ]
  },
  {
   "cell_type": "markdown",
   "metadata": {},
   "source": [
    "### 0~394 數字list"
   ]
  },
  {
   "cell_type": "code",
   "execution_count": null,
   "metadata": {},
   "outputs": [],
   "source": [
    "num_list = []\n",
    "for j in range(0,395):\n",
    "    num_list.append(j)"
   ]
  },
  {
   "cell_type": "markdown",
   "metadata": {},
   "source": [
    "### 讀取每個帳號，將每個帳號缺少的0~395數字補齊，並加入total_list"
   ]
  },
  {
   "cell_type": "code",
   "execution_count": null,
   "metadata": {},
   "outputs": [],
   "source": [
    "total_list = []\n",
    "for e in acct_id: #讀每個帳號\n",
    "    for jj in df.loc[df['cust_id'] == e].values.tolist():\n",
    "        total_list.append(jj)\n",
    "    kkk = \"\"\n",
    "    kkk = set(num_list) - set(df.loc[df['cust_id'] == e]['byymm'].values.tolist())\n",
    "    for n in kkk:\n",
    "        total_list.append([e,\"\",n,\"\",\"\",\"\",\"\",\"\",\"\",\"\"])\n",
    "\n"
   ]
  },
  {
   "cell_type": "markdown",
   "metadata": {},
   "source": [
    "### 匯出數字補齊完的list"
   ]
  },
  {
   "cell_type": "code",
   "execution_count": null,
   "metadata": {},
   "outputs": [],
   "source": [
    "import csv\n",
    "with open('example.csv', 'w',newline='') as file:\n",
    "    writer = csv.writer(file)\n",
    "    writer.writerow(['CUST_ID','LUPAY','BYYMM','CYCAM','USGAM','CLAMT','CSAMT','INAMT','CUCSM','CUCAH'])\n",
    "    for mm in total_list:\n",
    "        writer.writerow(mm)"
   ]
  },
  {
   "cell_type": "code",
   "execution_count": null,
   "metadata": {},
   "outputs": [],
   "source": [
    "pd.set_option('display.max_rows', 400)"
   ]
  },
  {
   "cell_type": "code",
   "execution_count": null,
   "metadata": {},
   "outputs": [],
   "source": [
    "df1 = pd.read_csv(r'example.csv')\n",
    "df1 = df1.sort_values(['CUST_ID', 'BYYMM'])\n",
    "# df1['LUPAY'] = df1.groupby('CUST_ID')['LUPAY'].ffill()"
   ]
  },
  {
   "cell_type": "code",
   "execution_count": null,
   "metadata": {},
   "outputs": [],
   "source": [
    "df1['LUPAY'] = df1.groupby('CUST_ID')['LUPAY'].ffill()\n",
    "df1['CYCAM'] = df1.groupby('CUST_ID')['CYCAM'].ffill()\n",
    "df1['USGAM'] = df1.groupby('CUST_ID')['USGAM'].ffill()\n",
    "df1['CLAMT'] = df1.groupby('CUST_ID')['CLAMT'].ffill()\n",
    "df1['CSAMT'] = df1.groupby('CUST_ID')['CSAMT'].ffill()\n",
    "df1['INAMT'] = df1.groupby('CUST_ID')['INAMT'].ffill()\n",
    "df1['CUCSM'] = df1.groupby('CUST_ID')['CUCSM'].ffill()\n",
    "df1['CUCAH'] = df1.groupby('CUST_ID')['CUCAH'].ffill()\n",
    "#---------------------------------------------------------\n",
    "df1['LUPAY'] = df1['LUPAY'].fillna(0)\n",
    "df1['CYCAM'] = df1['CYCAM'].fillna(0)\n",
    "df1['USGAM'] = df1['USGAM'].fillna(0)\n",
    "df1['CLAMT'] = df1['CLAMT'].fillna(0)\n",
    "df1['CSAMT'] = df1['CSAMT'].fillna(0)\n",
    "df1['INAMT'] = df1['INAMT'].fillna(0)\n",
    "df1['CUCSM'] = df1['CUCSM'].fillna(0)\n",
    "df1['CUCAH'] = df1['CUCAH'].fillna(0)"
   ]
  },
  {
   "cell_type": "code",
   "execution_count": null,
   "metadata": {},
   "outputs": [],
   "source": [
    "df1.to_csv(r'E:\\Desktop\\玉山\\訓練資料集_first\\ccba_transfered.csv', index = False)"
   ]
  },
  {
   "cell_type": "code",
   "execution_count": null,
   "metadata": {},
   "outputs": [],
   "source": [
    "def flatten_list(_2d_list):\n",
    "    flat_list = []\n",
    "    # Iterate through the outer list\n",
    "    for element in _2d_list:\n",
    "        if type(element) is list:\n",
    "            # If the element is of type list, iterate through the sublist\n",
    "            for item in element:\n",
    "                flat_list.append(item)\n",
    "        else:\n",
    "            flat_list.append(element)\n",
    "    return flat_list\n",
    "\n",
    "import pandas as pd\n",
    "\n",
    "df = pd.read_csv(r'E:\\Desktop\\玉山\\訓練資料集_first\\public_train_x_ccba_full_hashed.csv')\n",
    "df\n",
    "\n",
    "### Distinct 全部帳號\n",
    "\n",
    "#全部帳號\n",
    "acct_id = []\n",
    "acct_id = sorted(df['cust_id'].unique())\n",
    "print(acct_id)\n",
    "\n",
    "### 0~394 數字list\n",
    "\n",
    "num_list = []\n",
    "for j in range(0,395):\n",
    "    num_list.append(j)\n",
    "\n",
    "### 讀取每個帳號，將每個帳號缺少的0~395數字補齊，並加入total_list\n",
    "\n",
    "total_list = []\n",
    "for e in acct_id: #讀每個帳號\n",
    "    for jj in df.loc[df['cust_id'] == e].values.tolist():\n",
    "        total_list.append(jj)\n",
    "    kkk = \"\"\n",
    "    kkk = set(num_list) - set(df.loc[df['cust_id'] == e]['byymm'].values.tolist())\n",
    "    for n in kkk:\n",
    "        total_list.append([e,\"\",n,\"\",\"\",\"\",\"\",\"\",\"\",\"\"])\n",
    "\n",
    "\n",
    "\n",
    "### 匯出數字補齊完的list\n",
    "\n",
    "import csv\n",
    "with open('example.csv', 'w',newline='') as file:\n",
    "    writer = csv.writer(file)\n",
    "    writer.writerow(['CUST_ID','LUPAY','BYYMM','CYCAM','USGAM','CLAMT','CSAMT','INAMT','CUCSM','CUCAH'])\n",
    "    for mm in total_list:\n",
    "        writer.writerow(mm)\n",
    "\n",
    "pd.set_option('display.max_rows', 400)\n",
    "\n",
    "df1 = pd.read_csv(r'example.csv')\n",
    "df1 = df1.sort_values(['CUST_ID', 'BYYMM'])\n",
    "# df1['LUPAY'] = df1.groupby('CUST_ID')['LUPAY'].ffill()\n",
    "\n",
    "df1['LUPAY'] = df1.groupby('CUST_ID')['LUPAY'].ffill()\n",
    "df1['CYCAM'] = df1.groupby('CUST_ID')['CYCAM'].ffill()\n",
    "df1['USGAM'] = df1.groupby('CUST_ID')['USGAM'].ffill()\n",
    "df1['CLAMT'] = df1.groupby('CUST_ID')['CLAMT'].ffill()\n",
    "df1['CSAMT'] = df1.groupby('CUST_ID')['CSAMT'].ffill()\n",
    "df1['INAMT'] = df1.groupby('CUST_ID')['INAMT'].ffill()\n",
    "df1['CUCSM'] = df1.groupby('CUST_ID')['CUCSM'].ffill()\n",
    "df1['CUCAH'] = df1.groupby('CUST_ID')['CUCAH'].ffill()\n",
    "#---------------------------------------------------------\n",
    "df1['LUPAY'] = df1['LUPAY'].fillna(0)\n",
    "df1['CYCAM'] = df1['CYCAM'].fillna(0)\n",
    "df1['USGAM'] = df1['USGAM'].fillna(0)\n",
    "df1['CLAMT'] = df1['CLAMT'].fillna(0)\n",
    "df1['CSAMT'] = df1['CSAMT'].fillna(0)\n",
    "df1['INAMT'] = df1['INAMT'].fillna(0)\n",
    "df1['CUCSM'] = df1['CUCSM'].fillna(0)\n",
    "df1['CUCAH'] = df1['CUCAH'].fillna(0)\n",
    "\n",
    "df1.to_csv(r'E:\\Desktop\\玉山\\訓練資料集_first\\ccba_transfered.csv', index = False)"
   ]
  }
 ],
 "metadata": {
  "kernelspec": {
   "display_name": "Python 3",
   "language": "python",
   "name": "python3"
  },
  "language_info": {
   "codemirror_mode": {
    "name": "ipython",
    "version": 3
   },
   "file_extension": ".py",
   "mimetype": "text/x-python",
   "name": "python",
   "nbconvert_exporter": "python",
   "pygments_lexer": "ipython3",
   "version": "3.7.6"
  }
 },
 "nbformat": 4,
 "nbformat_minor": 4
}
