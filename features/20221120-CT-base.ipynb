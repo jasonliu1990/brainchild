{
 "cells": [
  {
   "cell_type": "code",
   "execution_count": 1,
   "metadata": {},
   "outputs": [],
   "source": [
    "import pandas as pd\n",
    "from tqdm import tqdm\n",
    "tqdm.pandas(desc='process')"
   ]
  },
  {
   "cell_type": "code",
   "execution_count": 2,
   "metadata": {},
   "outputs": [],
   "source": [
    "cust_info = (pd.read_csv('dataset/public_train_x_custinfo_full_hashed.csv')\n",
    "             .rename(columns=lambda x: x.lower()))\n",
    "alert_key = pd.read_csv('dataset/train_x_alert_date.csv')\n",
    "sar_flg = pd.read_csv('dataset/train_y_answer.csv')"
   ]
  },
  {
   "cell_type": "code",
   "execution_count": 3,
   "metadata": {},
   "outputs": [],
   "source": [
    "case = (alert_key\n",
    "        .merge(sar_flg, on='alert_key')\n",
    "        .merge(cust_info, on='alert_key'))"
   ]
  },
  {
   "cell_type": "markdown",
   "metadata": {},
   "source": [
    "### case base\n",
    "#### 資料選取:\n",
    "* drop date < 28 \n",
    "* drop duplicates, keep last"
   ]
  },
  {
   "cell_type": "code",
   "execution_count": 4,
   "metadata": {},
   "outputs": [],
   "source": [
    "case_info = (case\n",
    "             .assign(\n",
    "                 case_cnt=case.groupby(['cust_id'])['date'].rank(),\n",
    "                 case_dt_last_diff=case.groupby(['cust_id'])['date'].diff().fillna(0),\n",
    "                 case_dt_min=case.groupby('cust_id')['date'].transform('min'),\n",
    "                 case_dt_min_diff=lambda df: df['date'] - df['case_dt_min'])\n",
    "             .query(\"date > 27\")\n",
    "             .sort_values(['cust_id','date', 'sar_flag'],)\n",
    "             .drop_duplicates(subset=['cust_id'], keep='last'))\n",
    "             "
   ]
  },
  {
   "cell_type": "code",
   "execution_count": 5,
   "metadata": {},
   "outputs": [
    {
     "data": {
      "text/html": [
       "<div>\n",
       "<style scoped>\n",
       "    .dataframe tbody tr th:only-of-type {\n",
       "        vertical-align: middle;\n",
       "    }\n",
       "\n",
       "    .dataframe tbody tr th {\n",
       "        vertical-align: top;\n",
       "    }\n",
       "\n",
       "    .dataframe thead th {\n",
       "        text-align: right;\n",
       "    }\n",
       "</style>\n",
       "<table border=\"1\" class=\"dataframe\">\n",
       "  <thead>\n",
       "    <tr style=\"text-align: right;\">\n",
       "      <th></th>\n",
       "      <th>alert_key</th>\n",
       "      <th>date</th>\n",
       "      <th>sar_flag</th>\n",
       "      <th>cust_id</th>\n",
       "      <th>risk_rank</th>\n",
       "      <th>occupation_code</th>\n",
       "      <th>total_asset</th>\n",
       "      <th>age</th>\n",
       "      <th>case_cnt</th>\n",
       "      <th>case_dt_last_diff</th>\n",
       "      <th>case_dt_min</th>\n",
       "      <th>case_dt_min_diff</th>\n",
       "    </tr>\n",
       "  </thead>\n",
       "  <tbody>\n",
       "    <tr>\n",
       "      <th>4353</th>\n",
       "      <td>195913</td>\n",
       "      <td>53</td>\n",
       "      <td>0</td>\n",
       "      <td>0015cc01f553512007705edf855baa16f1b57a16fb107e...</td>\n",
       "      <td>1</td>\n",
       "      <td>17.0</td>\n",
       "      <td>32758.0</td>\n",
       "      <td>3</td>\n",
       "      <td>1.0</td>\n",
       "      <td>0.0</td>\n",
       "      <td>53</td>\n",
       "      <td>0</td>\n",
       "    </tr>\n",
       "    <tr>\n",
       "      <th>13458</th>\n",
       "      <td>271556</td>\n",
       "      <td>221</td>\n",
       "      <td>0</td>\n",
       "      <td>002d6bc6382e759c9a5b6bb2c8dda9add2f38cd87e10ca...</td>\n",
       "      <td>3</td>\n",
       "      <td>4.0</td>\n",
       "      <td>629787.0</td>\n",
       "      <td>3</td>\n",
       "      <td>3.0</td>\n",
       "      <td>3.0</td>\n",
       "      <td>217</td>\n",
       "      <td>4</td>\n",
       "    </tr>\n",
       "    <tr>\n",
       "      <th>16322</th>\n",
       "      <td>294760</td>\n",
       "      <td>263</td>\n",
       "      <td>0</td>\n",
       "      <td>002f13f534d0bd9fcc1848db3ff5c7b1179d117f8de805...</td>\n",
       "      <td>3</td>\n",
       "      <td>15.0</td>\n",
       "      <td>980597.0</td>\n",
       "      <td>4</td>\n",
       "      <td>4.0</td>\n",
       "      <td>3.0</td>\n",
       "      <td>153</td>\n",
       "      <td>110</td>\n",
       "    </tr>\n",
       "    <tr>\n",
       "      <th>5740</th>\n",
       "      <td>206471</td>\n",
       "      <td>78</td>\n",
       "      <td>0</td>\n",
       "      <td>0031e83ddef78e57d17ac5dce088627b7745be8ff6cffc...</td>\n",
       "      <td>2</td>\n",
       "      <td>13.0</td>\n",
       "      <td>406.0</td>\n",
       "      <td>5</td>\n",
       "      <td>6.0</td>\n",
       "      <td>1.0</td>\n",
       "      <td>70</td>\n",
       "      <td>8</td>\n",
       "    </tr>\n",
       "    <tr>\n",
       "      <th>21678</th>\n",
       "      <td>334035</td>\n",
       "      <td>330</td>\n",
       "      <td>0</td>\n",
       "      <td>0032adaf4a8731b4d6a3fdcba32f9ebdcd336490eda155...</td>\n",
       "      <td>3</td>\n",
       "      <td>12.0</td>\n",
       "      <td>4872215.0</td>\n",
       "      <td>2</td>\n",
       "      <td>43.0</td>\n",
       "      <td>2.0</td>\n",
       "      <td>106</td>\n",
       "      <td>224</td>\n",
       "    </tr>\n",
       "  </tbody>\n",
       "</table>\n",
       "</div>"
      ],
      "text/plain": [
       "       alert_key  date  sar_flag  \\\n",
       "4353      195913    53         0   \n",
       "13458     271556   221         0   \n",
       "16322     294760   263         0   \n",
       "5740      206471    78         0   \n",
       "21678     334035   330         0   \n",
       "\n",
       "                                                 cust_id  risk_rank  \\\n",
       "4353   0015cc01f553512007705edf855baa16f1b57a16fb107e...          1   \n",
       "13458  002d6bc6382e759c9a5b6bb2c8dda9add2f38cd87e10ca...          3   \n",
       "16322  002f13f534d0bd9fcc1848db3ff5c7b1179d117f8de805...          3   \n",
       "5740   0031e83ddef78e57d17ac5dce088627b7745be8ff6cffc...          2   \n",
       "21678  0032adaf4a8731b4d6a3fdcba32f9ebdcd336490eda155...          3   \n",
       "\n",
       "       occupation_code  total_asset  age  case_cnt  case_dt_last_diff  \\\n",
       "4353              17.0      32758.0    3       1.0                0.0   \n",
       "13458              4.0     629787.0    3       3.0                3.0   \n",
       "16322             15.0     980597.0    4       4.0                3.0   \n",
       "5740              13.0        406.0    5       6.0                1.0   \n",
       "21678             12.0    4872215.0    2      43.0                2.0   \n",
       "\n",
       "       case_dt_min  case_dt_min_diff  \n",
       "4353            53                 0  \n",
       "13458          217                 4  \n",
       "16322          153               110  \n",
       "5740            70                 8  \n",
       "21678          106               224  "
      ]
     },
     "execution_count": 5,
     "metadata": {},
     "output_type": "execute_result"
    }
   ],
   "source": [
    "case_info.head()"
   ]
  },
  {
   "cell_type": "code",
   "execution_count": 6,
   "metadata": {},
   "outputs": [
    {
     "data": {
      "text/plain": [
       "0    5324\n",
       "1     215\n",
       "Name: sar_flag, dtype: int64"
      ]
     },
     "execution_count": 6,
     "metadata": {},
     "output_type": "execute_result"
    }
   ],
   "source": [
    "case_info.sar_flag.value_counts()"
   ]
  },
  {
   "cell_type": "markdown",
   "metadata": {},
   "source": [
    "將過去28天分成4個週期<br>\n",
    "先計算每個週期in/out/count/...<br>\n",
    "再比較週期之間的差異<br>"
   ]
  },
  {
   "cell_type": "code",
   "execution_count": 7,
   "metadata": {},
   "outputs": [],
   "source": [
    "def add_cycle(dt, dt_end):\n",
    "    bins = [dt_end - i * 7 for i in range(4)]\n",
    "    cycle = len([b for b in bins if b >= dt])\n",
    "    return cycle\n",
    "\n",
    "\n",
    "def create_stat_features(df):\n",
    "    df = (df\n",
    "          .groupby(['cycle', 'debit_credit'])['tx_amt'].describe()\n",
    "          .stack().reset_index()\n",
    "          .rename(columns={0: 'val'})\n",
    "          .assign(features=lambda df: df['cycle'].astype(str) + df['debit_credit'] + df['level_2'])\n",
    "          [['features', 'val']].set_index('features').T)\n",
    "    return df\n",
    "\n",
    "\n",
    "def create_diff_features(df):\n",
    "    pass\n",
    "\n",
    "\n",
    "def create_txn_features(df):\n",
    "    pass\n",
    "\n",
    "\n",
    "def create_features(cust_id, dt):\n",
    "    try:\n",
    "        tmp_df = (dp\n",
    "                  .query(\"cust_id == @cust_id and tx_date < @dt and tx_date >= @dt - 28\")\n",
    "                  .assign(\n",
    "                      cycle=lambda df: df.apply(lambda x: add_cycle(x['tx_date'], dt), axis=1))\n",
    "                  .pipe(create_stat_features)\n",
    "                  .assign(cust_id=cust_id))\n",
    "    except Exception as e:\n",
    "        tmp_df = pd.DataFrame()\n",
    "        dp_tmp = dp.query(\"cust_id == @cust_id and tx_date < @dt and tx_date >= @dt - 28\")\n",
    "        if dp_tmp.empty:\n",
    "            dp_tot_cnt = len(dp.query(\"cust_id == @cust_id\"))\n",
    "            alert_case = case_info.query(\"cust_id == @cust_id\")\n",
    "            if alert_case['sar_flag'].values[0] == 1:\n",
    "                print(f\"\"\"{cust_id}|{dt}|{e}|dp tot cnt {dp_tot_cnt}|alert cnt {alert_case['case_cnt'].values[0]}|sar {alert_case['sar_flag'].values[0]}\"\"\")\n",
    "        else:\n",
    "            print(f\"{cust_id}|{dt}|{e}\")\n",
    "    return tmp_df"
   ]
  },
  {
   "cell_type": "code",
   "execution_count": 8,
   "metadata": {},
   "outputs": [],
   "source": [
    "dp = pd.read_csv('dataset/public_train_x_dp_full_hashed.csv')"
   ]
  },
  {
   "cell_type": "code",
   "execution_count": 9,
   "metadata": {
    "scrolled": true
   },
   "outputs": [
    {
     "name": "stderr",
     "output_type": "stream",
     "text": [
      "process:  22%|██████████████▉                                                      | 1197/5539 [01:27<05:54, 12.25it/s]"
     ]
    },
    {
     "name": "stdout",
     "output_type": "stream",
     "text": [
      "36c96f886054b13855e0531cfc53562de5acdada08fb75c24e6d957c0d8af1a9|35|'cycle'|dp tot cnt 79|alert cnt 1.0|sar 1\n"
     ]
    },
    {
     "name": "stderr",
     "output_type": "stream",
     "text": [
      "process:  87%|████████████████████████████████████████████████████████████▎        | 4843/5539 [05:51<00:49, 14.02it/s]"
     ]
    },
    {
     "name": "stdout",
     "output_type": "stream",
     "text": [
      "deea7839000d9f8c1e3fed53e0a1141266fb8d7149a05008bc4de475b8785c64|81|'cycle'|dp tot cnt 0|alert cnt 17.0|sar 1\n"
     ]
    },
    {
     "name": "stderr",
     "output_type": "stream",
     "text": [
      "process: 100%|█████████████████████████████████████████████████████████████████████| 5539/5539 [06:43<00:00, 13.72it/s]\n"
     ]
    }
   ],
   "source": [
    "res = case_info.progress_apply(lambda x: create_features(x['cust_id'], x['date']), axis=1)\n",
    "res = (pd\n",
    "       .concat(res.values)\n",
    "       .set_index('cust_id').reset_index())"
   ]
  },
  {
   "cell_type": "code",
   "execution_count": 10,
   "metadata": {},
   "outputs": [
    {
     "data": {
      "text/plain": [
       "(4736, 65)"
      ]
     },
     "execution_count": 10,
     "metadata": {},
     "output_type": "execute_result"
    }
   ],
   "source": [
    "res.shape"
   ]
  },
  {
   "cell_type": "code",
   "execution_count": 11,
   "metadata": {},
   "outputs": [
    {
     "data": {
      "text/html": [
       "<div>\n",
       "<style scoped>\n",
       "    .dataframe tbody tr th:only-of-type {\n",
       "        vertical-align: middle;\n",
       "    }\n",
       "\n",
       "    .dataframe tbody tr th {\n",
       "        vertical-align: top;\n",
       "    }\n",
       "\n",
       "    .dataframe thead th {\n",
       "        text-align: right;\n",
       "    }\n",
       "</style>\n",
       "<table border=\"1\" class=\"dataframe\">\n",
       "  <thead>\n",
       "    <tr style=\"text-align: right;\">\n",
       "      <th>features</th>\n",
       "      <th>cust_id</th>\n",
       "      <th>1CRcount</th>\n",
       "      <th>1CRmean</th>\n",
       "      <th>1CRmin</th>\n",
       "      <th>1CR25%</th>\n",
       "      <th>1CR50%</th>\n",
       "      <th>1CR75%</th>\n",
       "      <th>1CRmax</th>\n",
       "      <th>1DBcount</th>\n",
       "      <th>1DBmean</th>\n",
       "      <th>...</th>\n",
       "      <th>4CR75%</th>\n",
       "      <th>4CRmax</th>\n",
       "      <th>4DBcount</th>\n",
       "      <th>4DBmean</th>\n",
       "      <th>4DBstd</th>\n",
       "      <th>4DBmin</th>\n",
       "      <th>4DB25%</th>\n",
       "      <th>4DB50%</th>\n",
       "      <th>4DB75%</th>\n",
       "      <th>4DBmax</th>\n",
       "    </tr>\n",
       "  </thead>\n",
       "  <tbody>\n",
       "    <tr>\n",
       "      <th>0</th>\n",
       "      <td>0015cc01f553512007705edf855baa16f1b57a16fb107e...</td>\n",
       "      <td>1.0</td>\n",
       "      <td>516.000000</td>\n",
       "      <td>516.0</td>\n",
       "      <td>516.00</td>\n",
       "      <td>516.0</td>\n",
       "      <td>516.0</td>\n",
       "      <td>516.0</td>\n",
       "      <td>1.0</td>\n",
       "      <td>826.0</td>\n",
       "      <td>...</td>\n",
       "      <td>NaN</td>\n",
       "      <td>NaN</td>\n",
       "      <td>NaN</td>\n",
       "      <td>NaN</td>\n",
       "      <td>NaN</td>\n",
       "      <td>NaN</td>\n",
       "      <td>NaN</td>\n",
       "      <td>NaN</td>\n",
       "      <td>NaN</td>\n",
       "      <td>NaN</td>\n",
       "    </tr>\n",
       "    <tr>\n",
       "      <th>1</th>\n",
       "      <td>002d6bc6382e759c9a5b6bb2c8dda9add2f38cd87e10ca...</td>\n",
       "      <td>NaN</td>\n",
       "      <td>NaN</td>\n",
       "      <td>NaN</td>\n",
       "      <td>NaN</td>\n",
       "      <td>NaN</td>\n",
       "      <td>NaN</td>\n",
       "      <td>NaN</td>\n",
       "      <td>NaN</td>\n",
       "      <td>NaN</td>\n",
       "      <td>...</td>\n",
       "      <td>NaN</td>\n",
       "      <td>NaN</td>\n",
       "      <td>NaN</td>\n",
       "      <td>NaN</td>\n",
       "      <td>NaN</td>\n",
       "      <td>NaN</td>\n",
       "      <td>NaN</td>\n",
       "      <td>NaN</td>\n",
       "      <td>NaN</td>\n",
       "      <td>NaN</td>\n",
       "    </tr>\n",
       "    <tr>\n",
       "      <th>2</th>\n",
       "      <td>002f13f534d0bd9fcc1848db3ff5c7b1179d117f8de805...</td>\n",
       "      <td>6.0</td>\n",
       "      <td>14150.500000</td>\n",
       "      <td>521.0</td>\n",
       "      <td>2344.75</td>\n",
       "      <td>13544.5</td>\n",
       "      <td>23959.0</td>\n",
       "      <td>31251.0</td>\n",
       "      <td>2.0</td>\n",
       "      <td>216050.5</td>\n",
       "      <td>...</td>\n",
       "      <td>NaN</td>\n",
       "      <td>NaN</td>\n",
       "      <td>NaN</td>\n",
       "      <td>NaN</td>\n",
       "      <td>NaN</td>\n",
       "      <td>NaN</td>\n",
       "      <td>NaN</td>\n",
       "      <td>NaN</td>\n",
       "      <td>NaN</td>\n",
       "      <td>NaN</td>\n",
       "    </tr>\n",
       "    <tr>\n",
       "      <th>3</th>\n",
       "      <td>0031e83ddef78e57d17ac5dce088627b7745be8ff6cffc...</td>\n",
       "      <td>NaN</td>\n",
       "      <td>NaN</td>\n",
       "      <td>NaN</td>\n",
       "      <td>NaN</td>\n",
       "      <td>NaN</td>\n",
       "      <td>NaN</td>\n",
       "      <td>NaN</td>\n",
       "      <td>1.0</td>\n",
       "      <td>31312.0</td>\n",
       "      <td>...</td>\n",
       "      <td>31312.00</td>\n",
       "      <td>521874.0</td>\n",
       "      <td>5.0</td>\n",
       "      <td>10045.6</td>\n",
       "      <td>9101.014136</td>\n",
       "      <td>1044.0</td>\n",
       "      <td>1804.00</td>\n",
       "      <td>10453.0</td>\n",
       "      <td>13965.00</td>\n",
       "      <td>22962.0</td>\n",
       "    </tr>\n",
       "    <tr>\n",
       "      <th>4</th>\n",
       "      <td>0032adaf4a8731b4d6a3fdcba32f9ebdcd336490eda155...</td>\n",
       "      <td>31.0</td>\n",
       "      <td>236716.580645</td>\n",
       "      <td>30.0</td>\n",
       "      <td>500.00</td>\n",
       "      <td>2537.0</td>\n",
       "      <td>37433.0</td>\n",
       "      <td>2001768.0</td>\n",
       "      <td>5.0</td>\n",
       "      <td>12460.8</td>\n",
       "      <td>...</td>\n",
       "      <td>37683.75</td>\n",
       "      <td>50044.0</td>\n",
       "      <td>2.0</td>\n",
       "      <td>17488.5</td>\n",
       "      <td>9096.928740</td>\n",
       "      <td>11056.0</td>\n",
       "      <td>14272.25</td>\n",
       "      <td>17488.5</td>\n",
       "      <td>20704.75</td>\n",
       "      <td>23921.0</td>\n",
       "    </tr>\n",
       "  </tbody>\n",
       "</table>\n",
       "<p>5 rows × 65 columns</p>\n",
       "</div>"
      ],
      "text/plain": [
       "features                                            cust_id  1CRcount  \\\n",
       "0         0015cc01f553512007705edf855baa16f1b57a16fb107e...       1.0   \n",
       "1         002d6bc6382e759c9a5b6bb2c8dda9add2f38cd87e10ca...       NaN   \n",
       "2         002f13f534d0bd9fcc1848db3ff5c7b1179d117f8de805...       6.0   \n",
       "3         0031e83ddef78e57d17ac5dce088627b7745be8ff6cffc...       NaN   \n",
       "4         0032adaf4a8731b4d6a3fdcba32f9ebdcd336490eda155...      31.0   \n",
       "\n",
       "features        1CRmean  1CRmin   1CR25%   1CR50%   1CR75%     1CRmax  \\\n",
       "0            516.000000   516.0   516.00    516.0    516.0      516.0   \n",
       "1                   NaN     NaN      NaN      NaN      NaN        NaN   \n",
       "2          14150.500000   521.0  2344.75  13544.5  23959.0    31251.0   \n",
       "3                   NaN     NaN      NaN      NaN      NaN        NaN   \n",
       "4         236716.580645    30.0   500.00   2537.0  37433.0  2001768.0   \n",
       "\n",
       "features  1DBcount   1DBmean  ...    4CR75%    4CRmax  4DBcount  4DBmean  \\\n",
       "0              1.0     826.0  ...       NaN       NaN       NaN      NaN   \n",
       "1              NaN       NaN  ...       NaN       NaN       NaN      NaN   \n",
       "2              2.0  216050.5  ...       NaN       NaN       NaN      NaN   \n",
       "3              1.0   31312.0  ...  31312.00  521874.0       5.0  10045.6   \n",
       "4              5.0   12460.8  ...  37683.75   50044.0       2.0  17488.5   \n",
       "\n",
       "features       4DBstd   4DBmin    4DB25%   4DB50%    4DB75%   4DBmax  \n",
       "0                 NaN      NaN       NaN      NaN       NaN      NaN  \n",
       "1                 NaN      NaN       NaN      NaN       NaN      NaN  \n",
       "2                 NaN      NaN       NaN      NaN       NaN      NaN  \n",
       "3         9101.014136   1044.0   1804.00  10453.0  13965.00  22962.0  \n",
       "4         9096.928740  11056.0  14272.25  17488.5  20704.75  23921.0  \n",
       "\n",
       "[5 rows x 65 columns]"
      ]
     },
     "execution_count": 11,
     "metadata": {},
     "output_type": "execute_result"
    }
   ],
   "source": [
    "res.head()"
   ]
  },
  {
   "cell_type": "code",
   "execution_count": null,
   "metadata": {},
   "outputs": [],
   "source": []
  }
 ],
 "metadata": {
  "kernelspec": {
   "display_name": "pyg",
   "language": "python",
   "name": "pyg"
  },
  "language_info": {
   "codemirror_mode": {
    "name": "ipython",
    "version": 3
   },
   "file_extension": ".py",
   "mimetype": "text/x-python",
   "name": "python",
   "nbconvert_exporter": "python",
   "pygments_lexer": "ipython3",
   "version": "3.8.13"
  }
 },
 "nbformat": 4,
 "nbformat_minor": 4
}
